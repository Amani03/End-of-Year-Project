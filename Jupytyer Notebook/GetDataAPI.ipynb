{
 "cells": [
  {
   "cell_type": "code",
   "execution_count": 1,
   "metadata": {
    "ExecuteTime": {
     "end_time": "2020-02-24T13:30:32.155302Z",
     "start_time": "2020-02-24T13:30:31.434141Z"
    }
   },
   "outputs": [],
   "source": [
    "import pandas as pd\n",
    "import numpy as np\n",
    "import requests\n",
    "import json"
   ]
  },
  {
   "cell_type": "code",
   "execution_count": 299,
   "metadata": {
    "ExecuteTime": {
     "end_time": "2020-02-24T14:25:36.698011Z",
     "start_time": "2020-02-24T14:25:27.452007Z"
    }
   },
   "outputs": [],
   "source": [
    "url = \"https://rtl2.ods-live.co.uk/api/trackingHistory?key=Oo7wRdajVq&service=26&date=2018-05-31&vehicle=&location=\"\n",
    "r = requests.get(url).json()"
   ]
  },
  {
   "cell_type": "code",
   "execution_count": 300,
   "metadata": {
    "ExecuteTime": {
     "end_time": "2020-02-24T14:25:59.522118Z",
     "start_time": "2020-02-24T14:25:59.065092Z"
    }
   },
   "outputs": [
    {
     "name": "stdout",
     "output_type": "stream",
     "text": [
      "[\n",
      "    {\n",
      "        \"Site\": \"RTL\",\n",
      "        \"Operator\": \"RGB\",\n",
      "        \"LineRef\": \"26\",\n",
      "        \"DepotCode\": \"RGB\",\n",
      "        \"LocationCode\": \"030055200002\",\n",
      "        \"LocationName\": \"Calcot, Sainsbury's\",\n",
      "        \"ScheduledStartTime\": \"2018-05-31 00:16:00\",\n",
      "        \"LiveJourneyId\": \"5026622\",\n",
      "        \"Sequence\": \"1\",\n",
      "        \"RunningBoard\": \"26I\",\n",
      "        \"Duty\": \"1405\",\n",
      "        \"Direction\": \"Inbound\",\n",
      " \n"
     ]
    }
   ],
   "source": [
    "data = json.dumps(r, indent=4, sort_keys=False)\n",
    "print(data[:400])"
   ]
  },
  {
   "cell_type": "code",
   "execution_count": 301,
   "metadata": {
    "ExecuteTime": {
     "end_time": "2020-02-24T14:26:00.617622Z",
     "start_time": "2020-02-24T14:26:00.160565Z"
    }
   },
   "outputs": [],
   "source": [
    "df = pd.read_json(data)\n",
    "df = df[['Site','Operator','LineRef','DepotCode','LocationCode','LocationName','ScheduledStartTime','LiveJourneyId','Sequence','RunningBoard'\n",
    "                  ,'Duty','Direction','JourneyCode','VehicleCode','DriverCode','TimingPoint','JourneyPattern','ArrivalStatus'\n",
    "                 ,'DepartureStatus','ScheduledArrivalTime','ScheduledDepartureTime','ArrivalTime','DepartureTime','ScheduledHeadway','ActualHeadway'\n",
    "                 ,'JourneyId','ServiceGroup','NumberStops','StartPoint','EndPoint','Latitude','Longitude','District','JourneyType']]\n",
    "columnsTitles = ['Site','Operator','LineRef','DepotCode','LocationCode','LocationName','ScheduledStartTime','LiveJourneyId','Sequence','RunningBoard'\n",
    "                  ,'Duty','Direction','JourneyCode','VehicleCode','DriverCode','TimingPoint','JourneyPattern','ArrivalStatus'\n",
    "                 ,'DepartureStatus','ScheduledArrivalTime','ScheduledDepartureTime','ArrivalTime','DepartureTime','ScheduledHeadway','ActualHeadway'\n",
    "                 ,'JourneyId','ServiceGroup','NumberStops','StartPoint','EndPoint','Latitude','Longitude','District','JourneyType']\n",
    "\n",
    "df = df.reindex(columns=columnsTitles)"
   ]
  },
  {
   "cell_type": "code",
   "execution_count": 302,
   "metadata": {
    "ExecuteTime": {
     "end_time": "2020-02-24T14:26:01.554510Z",
     "start_time": "2020-02-24T14:26:01.167671Z"
    }
   },
   "outputs": [],
   "source": [
    "df.to_csv('APIData.csv', mode='a', header=False, index=False)"
   ]
  },
  {
   "cell_type": "code",
   "execution_count": null,
   "metadata": {},
   "outputs": [],
   "source": []
  }
 ],
 "metadata": {
  "kernelspec": {
   "display_name": "Python 3",
   "language": "python",
   "name": "python3"
  },
  "language_info": {
   "codemirror_mode": {
    "name": "ipython",
    "version": 3
   },
   "file_extension": ".py",
   "mimetype": "text/x-python",
   "name": "python",
   "nbconvert_exporter": "python",
   "pygments_lexer": "ipython3",
   "version": "3.7.3"
  },
  "toc": {
   "base_numbering": 1,
   "nav_menu": {},
   "number_sections": true,
   "sideBar": true,
   "skip_h1_title": false,
   "title_cell": "Table of Contents",
   "title_sidebar": "Contents",
   "toc_cell": false,
   "toc_position": {},
   "toc_section_display": true,
   "toc_window_display": false
  },
  "varInspector": {
   "cols": {
    "lenName": 16,
    "lenType": 16,
    "lenVar": 40
   },
   "kernels_config": {
    "python": {
     "delete_cmd_postfix": "",
     "delete_cmd_prefix": "del ",
     "library": "var_list.py",
     "varRefreshCmd": "print(var_dic_list())"
    },
    "r": {
     "delete_cmd_postfix": ") ",
     "delete_cmd_prefix": "rm(",
     "library": "var_list.r",
     "varRefreshCmd": "cat(var_dic_list()) "
    }
   },
   "types_to_exclude": [
    "module",
    "function",
    "builtin_function_or_method",
    "instance",
    "_Feature"
   ],
   "window_display": false
  }
 },
 "nbformat": 4,
 "nbformat_minor": 2
}
